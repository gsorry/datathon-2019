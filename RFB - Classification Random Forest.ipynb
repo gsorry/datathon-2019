{
 "cells": [
  {
   "cell_type": "markdown",
   "metadata": {},
   "source": [
    "# Raiffeisen - Classification Random Forest"
   ]
  },
  {
   "cell_type": "code",
   "execution_count": 1,
   "metadata": {},
   "outputs": [
    {
     "name": "stderr",
     "output_type": "stream",
     "text": [
      "/usr/local/lib/python3.5/site-packages/sklearn/ensemble/weight_boosting.py:29: DeprecationWarning: numpy.core.umath_tests is an internal NumPy module and should not be imported. It will be removed in a future NumPy release.\n",
      "  from numpy.core.umath_tests import inner1d\n"
     ]
    }
   ],
   "source": [
    "%matplotlib inline\n",
    "\n",
    "import pandas as pd\n",
    "import numpy as np\n",
    "import matplotlib.pyplot as plt\n",
    "import seaborn as sns\n",
    "\n",
    "import itertools\n",
    "\n",
    "from sklearn.ensemble import RandomForestClassifier\n",
    "from sklearn.preprocessing import LabelEncoder, MinMaxScaler\n",
    "from sklearn.feature_selection import RFE\n",
    "from sklearn.model_selection import train_test_split, cross_val_score, learning_curve, validation_curve, GridSearchCV\n",
    "from sklearn.linear_model import LogisticRegression\n",
    "from sklearn.metrics import accuracy_score, confusion_matrix\n",
    "from sklearn.utils.multiclass import unique_labels\n",
    "\n",
    "pd.options.display.max_columns = 400"
   ]
  },
  {
   "cell_type": "markdown",
   "metadata": {},
   "source": [
    "## Functions"
   ]
  },
  {
   "cell_type": "code",
   "execution_count": 2,
   "metadata": {},
   "outputs": [],
   "source": [
    "# Plot learning curve\n",
    "def plot_learning_curve(estimator, title, X, y, ylim=None, cv=None,\n",
    "                        n_jobs=1, train_sizes=np.linspace(.1, 1.0, 5)):\n",
    "    plt.figure()\n",
    "    plt.title(title)\n",
    "    if ylim is not None:\n",
    "        plt.ylim(*ylim)\n",
    "    plt.xlabel(\"Training examples\")\n",
    "    plt.ylabel(\"Score\")\n",
    "    train_sizes, train_scores, test_scores = learning_curve(\n",
    "        estimator, X, y, cv=cv, n_jobs=n_jobs, train_sizes=train_sizes)\n",
    "    train_scores_mean = np.mean(train_scores, axis=1)\n",
    "    train_scores_std = np.std(train_scores, axis=1)\n",
    "    test_scores_mean = np.mean(test_scores, axis=1)\n",
    "    test_scores_std = np.std(test_scores, axis=1)\n",
    "    plt.grid()\n",
    "\n",
    "    plt.fill_between(train_sizes, train_scores_mean - train_scores_std,\n",
    "                     train_scores_mean + train_scores_std, alpha=0.1,\n",
    "                     color=\"r\")\n",
    "    plt.fill_between(train_sizes, test_scores_mean - test_scores_std,\n",
    "                     test_scores_mean + test_scores_std, alpha=0.1, color=\"g\")\n",
    "    plt.plot(train_sizes, train_scores_mean, 'o-', color=\"r\",\n",
    "             label=\"Training score\")\n",
    "    plt.plot(train_sizes, test_scores_mean, 'o-', color=\"g\",\n",
    "             label=\"Validation score\")\n",
    "\n",
    "    plt.legend(loc=\"best\")\n",
    "    return plt"
   ]
  },
  {
   "cell_type": "code",
   "execution_count": 3,
   "metadata": {},
   "outputs": [],
   "source": [
    "# Plot validation curve\n",
    "def plot_validation_curve(estimator, title, X, y, param_name, param_range, ylim=None, cv=None,\n",
    "                        n_jobs=1, train_sizes=np.linspace(.1, 1.0, 5), xscale='linear'):\n",
    "    train_scores, test_scores = validation_curve(estimator, X, y, param_name, param_range, cv)\n",
    "    train_mean = np.mean(train_scores, axis=1)\n",
    "    train_std = np.std(train_scores, axis=1)\n",
    "    test_mean = np.mean(test_scores, axis=1)\n",
    "    test_std = np.std(test_scores, axis=1)\n",
    "    plt.plot(param_range, train_mean, color='r', marker='o', markersize=5, label='Training score')\n",
    "    plt.fill_between(param_range, train_mean + train_std, train_mean - train_std, alpha=0.15, color='r')\n",
    "    plt.plot(param_range, test_mean, color='g', linestyle='--', marker='s', markersize=5, label='Validation score')\n",
    "    plt.fill_between(param_range, test_mean + test_std, test_mean - test_std, alpha=0.15, color='g')\n",
    "    plt.grid() \n",
    "    plt.xscale(xscale)\n",
    "    plt.legend(loc='best') \n",
    "    plt.xlabel('Parameter') \n",
    "    plt.ylabel('Score') \n",
    "    plt.ylim(ylim)"
   ]
  },
  {
   "cell_type": "code",
   "execution_count": 4,
   "metadata": {},
   "outputs": [],
   "source": [
    "def plot_confusion_matrix(y_true, y_pred, classes,\n",
    "                          normalize=False,\n",
    "                          title=None,\n",
    "                          cmap=plt.cm.Blues,\n",
    "                          figsize=(5,5)):\n",
    "    \"\"\"\n",
    "    This function prints and plots the confusion matrix.\n",
    "    Normalization can be applied by setting `normalize=True`.\n",
    "    \"\"\"\n",
    "    if not title:\n",
    "        if normalize:\n",
    "            title = 'Normalized confusion matrix'\n",
    "        else:\n",
    "            title = 'Confusion matrix, without normalization'\n",
    "\n",
    "    # Compute confusion matrix\n",
    "    cm = confusion_matrix(y_true, y_pred)\n",
    "    # Only use the labels that appear in the data\n",
    "    classes = classes[unique_labels(y_true, y_pred)]\n",
    "    if normalize:\n",
    "        cm = cm.astype('float') / cm.sum(axis=1)[:, np.newaxis]\n",
    "\n",
    "    fig, ax = plt.subplots(figsize=figsize)\n",
    "    im = ax.imshow(cm, interpolation='nearest', cmap=cmap)\n",
    "    ax.figure.colorbar(im, ax=ax)\n",
    "    # We want to show all ticks...\n",
    "    ax.set(xticks=np.arange(cm.shape[1]),\n",
    "           yticks=np.arange(cm.shape[0]),\n",
    "           # ... and label them with the respective list entries\n",
    "           xticklabels=classes, yticklabels=classes,\n",
    "           title=title,\n",
    "           ylabel='True label',\n",
    "           xlabel='Predicted label',\n",
    "           xlim=(-0.5, 2.5),\n",
    "           ylim=(2.5, -0.5))\n",
    "\n",
    "    # Rotate the tick labels and set their alignment.\n",
    "    plt.setp(ax.get_xticklabels(), rotation=45, ha=\"right\",\n",
    "             rotation_mode=\"anchor\")\n",
    "\n",
    "    # Loop over data dimensions and create text annotations.\n",
    "    fmt = '.2f' if normalize else 'd'\n",
    "    thresh = cm.max() / 2.\n",
    "    for i in range(cm.shape[0]):\n",
    "        for j in range(cm.shape[1]):\n",
    "            ax.text(j, i, format(cm[i, j], fmt),\n",
    "                    ha=\"center\", va=\"center\",\n",
    "                    color=\"white\" if cm[i, j] > thresh else \"black\")\n",
    "    fig.tight_layout()\n",
    "    return ax"
   ]
  },
  {
   "cell_type": "markdown",
   "metadata": {},
   "source": [
    "## Load data"
   ]
  },
  {
   "cell_type": "code",
   "execution_count": 5,
   "metadata": {},
   "outputs": [
    {
     "name": "stdout",
     "output_type": "stream",
     "text": [
      "CPU times: user 17.1 s, sys: 3.6 s, total: 20.7 s\n",
      "Wall time: 18.1 s\n"
     ]
    },
    {
     "data": {
      "text/plain": [
       "(555844, 316)"
      ]
     },
     "execution_count": 5,
     "metadata": {},
     "output_type": "execute_result"
    }
   ],
   "source": [
    "%%time\n",
    "\n",
    "df = pd.read_csv('RFB - Merged Data.csv', index_col=0)\n",
    "\n",
    "df.shape"
   ]
  },
  {
   "cell_type": "markdown",
   "metadata": {},
   "source": [
    "## Feature selection"
   ]
  },
  {
   "cell_type": "code",
   "execution_count": 6,
   "metadata": {},
   "outputs": [
    {
     "data": {
      "text/plain": [
       "(219403, 31)"
      ]
     },
     "execution_count": 6,
     "metadata": {},
     "output_type": "execute_result"
    }
   ],
   "source": [
    "cl_columns = [\n",
    "    'CL_DB_TXN_CNT_m1',\n",
    "    'CL_DB_TXN_AMT_m1',\n",
    "    'CL_CR_TXN_CNT_m1',\n",
    "    'CL_CR_TXN_AMT_m1',\n",
    "    'CL_EOM_BAL_AMT_m1',\n",
    "    'CL_AVG_BAL_AMT_m1',\n",
    "    'CL_ACC_USED_CNT_m1',\n",
    "    'CL_TOT_TXN_CNT_m1',\n",
    "    'CL_TOT_TXN_AMT_m1',\n",
    "    'CL_ACCT_OPENED_CNT',\n",
    "    'CL_ACCT_CLOSED_CNT',\n",
    "    'CL_MATURITY_MTH',\n",
    "    'CL_MAX_TENURE_MTH',\n",
    "    'CL_MIN_TENURE_MTH',\n",
    "    'CL_MTH_SINCE_LAST_OPEN',\n",
    "    'CL_FLG_EVER',\n",
    "    'CL_FLG_m1',\n",
    "    'CL_ACCT_CNT_m1',\n",
    "    'CL_ACCT_OPEN_CNT_m1',\n",
    "    'CL_ACCT_CLOSE_CNT_m1',\n",
    "    'CL_MTH_SINCE_LAST_OPEN_MISSING',\n",
    "    'CL_MATURITY_MTH_MISSING'\n",
    "]\n",
    "incl_columns = [\n",
    "    'CUSTOMER_RK',\n",
    "    'FIRST_OPEN_PRODUCT',\n",
    "    'CITY',\n",
    "#     'MOBILE_FLG',\n",
    "    'EMAIL_FLG',\n",
    "#     'IS_SEGMENT_CD',\n",
    "    'BRANCH_CD',\n",
    "#     'REGION_CD',\n",
    "    'GEO_REGION_CD',\n",
    "    'AGE_AT_ANALYSIS_MTH_CNT',\n",
    "    'GENDER_CD',\n",
    "    'DC_MIX',\n",
    "    'CC_MIX',\n",
    "    'ROL_flg_m1',\n",
    "    'MOB_ACTIVE',\n",
    "    'BizSeg',\n",
    "    'month',\n",
    "    'month_od',\n",
    "    'month_do',\n",
    "    'mBanking_logs_m1',\n",
    "    'eBanking_logs_m1',\n",
    "    'MARITAL_STATUS',\n",
    "    'Education_level',\n",
    "    'RESIDENCE_STATUS',\n",
    "    'EMPLOYMENT_TYPE',\n",
    "    'cpi_consumer',\n",
    "    'cpi_excluding',\n",
    "    'cash_loan',\n",
    "    'grad',\n",
    "    'F',\n",
    "    'P',\n",
    "    'R',\n",
    "    'broj_prijava',\n",
    "    'broj_obveznika'\n",
    "]\n",
    "# ds = df[df.DAYS_SINCE_FIRST_ACCOUNT_OPEN<180].drop(cl_columns, axis=1)\n",
    "ds = df[df.DAYS_SINCE_FIRST_ACCOUNT_OPEN<180][incl_columns]\n",
    "ds.shape"
   ]
  },
  {
   "cell_type": "code",
   "execution_count": 7,
   "metadata": {},
   "outputs": [
    {
     "data": {
      "text/html": [
       "<div>\n",
       "<style scoped>\n",
       "    .dataframe tbody tr th:only-of-type {\n",
       "        vertical-align: middle;\n",
       "    }\n",
       "\n",
       "    .dataframe tbody tr th {\n",
       "        vertical-align: top;\n",
       "    }\n",
       "\n",
       "    .dataframe thead th {\n",
       "        text-align: right;\n",
       "    }\n",
       "</style>\n",
       "<table border=\"1\" class=\"dataframe\">\n",
       "  <thead>\n",
       "    <tr style=\"text-align: right;\">\n",
       "      <th></th>\n",
       "      <th></th>\n",
       "      <th>FIRST_OPEN_PRODUCT</th>\n",
       "      <th>CITY</th>\n",
       "      <th>EMAIL_FLG</th>\n",
       "      <th>BRANCH_CD</th>\n",
       "      <th>GEO_REGION_CD</th>\n",
       "      <th>AGE_AT_ANALYSIS_MTH_CNT</th>\n",
       "      <th>GENDER_CD</th>\n",
       "      <th>DC_MIX</th>\n",
       "      <th>CC_MIX</th>\n",
       "      <th>ROL_flg_m1</th>\n",
       "      <th>MOB_ACTIVE</th>\n",
       "      <th>BizSeg</th>\n",
       "      <th>month_od</th>\n",
       "      <th>month_do</th>\n",
       "      <th>mBanking_logs_m1</th>\n",
       "      <th>eBanking_logs_m1</th>\n",
       "      <th>MARITAL_STATUS</th>\n",
       "      <th>Education_level</th>\n",
       "      <th>RESIDENCE_STATUS</th>\n",
       "      <th>EMPLOYMENT_TYPE</th>\n",
       "      <th>cpi_consumer</th>\n",
       "      <th>cpi_excluding</th>\n",
       "      <th>cash_loan</th>\n",
       "      <th>grad</th>\n",
       "      <th>F</th>\n",
       "      <th>P</th>\n",
       "      <th>R</th>\n",
       "      <th>broj_prijava</th>\n",
       "      <th>broj_obveznika</th>\n",
       "    </tr>\n",
       "    <tr>\n",
       "      <th>CUSTOMER_RK</th>\n",
       "      <th>month</th>\n",
       "      <th></th>\n",
       "      <th></th>\n",
       "      <th></th>\n",
       "      <th></th>\n",
       "      <th></th>\n",
       "      <th></th>\n",
       "      <th></th>\n",
       "      <th></th>\n",
       "      <th></th>\n",
       "      <th></th>\n",
       "      <th></th>\n",
       "      <th></th>\n",
       "      <th></th>\n",
       "      <th></th>\n",
       "      <th></th>\n",
       "      <th></th>\n",
       "      <th></th>\n",
       "      <th></th>\n",
       "      <th></th>\n",
       "      <th></th>\n",
       "      <th></th>\n",
       "      <th></th>\n",
       "      <th></th>\n",
       "      <th></th>\n",
       "      <th></th>\n",
       "      <th></th>\n",
       "      <th></th>\n",
       "      <th></th>\n",
       "      <th></th>\n",
       "    </tr>\n",
       "  </thead>\n",
       "  <tbody>\n",
       "    <tr>\n",
       "      <td rowspan=\"5\" valign=\"top\">427759</td>\n",
       "      <td>201506</td>\n",
       "      <td>LEN</td>\n",
       "      <td>beograd-novi beograd</td>\n",
       "      <td>0</td>\n",
       "      <td>161</td>\n",
       "      <td>BEOGRAD 1</td>\n",
       "      <td>62.0</td>\n",
       "      <td>F</td>\n",
       "      <td>Unknown</td>\n",
       "      <td>Unknown</td>\n",
       "      <td>0</td>\n",
       "      <td>4.0</td>\n",
       "      <td>Webovci</td>\n",
       "      <td>201503</td>\n",
       "      <td>201609</td>\n",
       "      <td>0</td>\n",
       "      <td>0</td>\n",
       "      <td>Married</td>\n",
       "      <td>2. Elementary School</td>\n",
       "      <td>Ownership</td>\n",
       "      <td>Unemployed</td>\n",
       "      <td>1.9</td>\n",
       "      <td>0.6</td>\n",
       "      <td>nije u prvih 6</td>\n",
       "      <td>beograd-novi beograd</td>\n",
       "      <td>163.517</td>\n",
       "      <td>18.304</td>\n",
       "      <td>6.614</td>\n",
       "      <td>122,769</td>\n",
       "      <td>100,725</td>\n",
       "    </tr>\n",
       "    <tr>\n",
       "      <td>201505</td>\n",
       "      <td>LEN</td>\n",
       "      <td>beograd-novi beograd</td>\n",
       "      <td>0</td>\n",
       "      <td>161</td>\n",
       "      <td>BEOGRAD 1</td>\n",
       "      <td>62.0</td>\n",
       "      <td>F</td>\n",
       "      <td>Unknown</td>\n",
       "      <td>Unknown</td>\n",
       "      <td>0</td>\n",
       "      <td>3.0</td>\n",
       "      <td>Webovci</td>\n",
       "      <td>201503</td>\n",
       "      <td>201609</td>\n",
       "      <td>0</td>\n",
       "      <td>0</td>\n",
       "      <td>Married</td>\n",
       "      <td>2. Elementary School</td>\n",
       "      <td>Ownership</td>\n",
       "      <td>Unemployed</td>\n",
       "      <td>1.5</td>\n",
       "      <td>0.1</td>\n",
       "      <td>nije u prvih 6</td>\n",
       "      <td>beograd-novi beograd</td>\n",
       "      <td>163.517</td>\n",
       "      <td>18.304</td>\n",
       "      <td>6.614</td>\n",
       "      <td>122,769</td>\n",
       "      <td>100,725</td>\n",
       "    </tr>\n",
       "    <tr>\n",
       "      <td>201507</td>\n",
       "      <td>LEN</td>\n",
       "      <td>beograd-novi beograd</td>\n",
       "      <td>0</td>\n",
       "      <td>161</td>\n",
       "      <td>BEOGRAD 1</td>\n",
       "      <td>62.0</td>\n",
       "      <td>F</td>\n",
       "      <td>Unknown</td>\n",
       "      <td>Unknown</td>\n",
       "      <td>0</td>\n",
       "      <td>5.0</td>\n",
       "      <td>Webovci</td>\n",
       "      <td>201503</td>\n",
       "      <td>201609</td>\n",
       "      <td>0</td>\n",
       "      <td>0</td>\n",
       "      <td>Married</td>\n",
       "      <td>2. Elementary School</td>\n",
       "      <td>Ownership</td>\n",
       "      <td>Unemployed</td>\n",
       "      <td>1.0</td>\n",
       "      <td>0.5</td>\n",
       "      <td>nije u prvih 6</td>\n",
       "      <td>beograd-novi beograd</td>\n",
       "      <td>163.517</td>\n",
       "      <td>18.304</td>\n",
       "      <td>6.614</td>\n",
       "      <td>122,769</td>\n",
       "      <td>100,725</td>\n",
       "    </tr>\n",
       "    <tr>\n",
       "      <td>201503</td>\n",
       "      <td>LEN</td>\n",
       "      <td>beograd-novi beograd</td>\n",
       "      <td>0</td>\n",
       "      <td>161</td>\n",
       "      <td>BEOGRAD 1</td>\n",
       "      <td>62.0</td>\n",
       "      <td>F</td>\n",
       "      <td>Unknown</td>\n",
       "      <td>Unknown</td>\n",
       "      <td>0</td>\n",
       "      <td>1.0</td>\n",
       "      <td>Webovci</td>\n",
       "      <td>201503</td>\n",
       "      <td>201609</td>\n",
       "      <td>0</td>\n",
       "      <td>0</td>\n",
       "      <td>Married</td>\n",
       "      <td>2. Elementary School</td>\n",
       "      <td>Renting</td>\n",
       "      <td>Unemployed</td>\n",
       "      <td>1.9</td>\n",
       "      <td>0.0</td>\n",
       "      <td>nije u prvih 6</td>\n",
       "      <td>beograd-novi beograd</td>\n",
       "      <td>163.517</td>\n",
       "      <td>18.304</td>\n",
       "      <td>6.614</td>\n",
       "      <td>122,769</td>\n",
       "      <td>100,725</td>\n",
       "    </tr>\n",
       "    <tr>\n",
       "      <td>201508</td>\n",
       "      <td>LEN</td>\n",
       "      <td>beograd-novi beograd</td>\n",
       "      <td>0</td>\n",
       "      <td>161</td>\n",
       "      <td>BEOGRAD 1</td>\n",
       "      <td>63.0</td>\n",
       "      <td>F</td>\n",
       "      <td>Unknown</td>\n",
       "      <td>Unknown</td>\n",
       "      <td>0</td>\n",
       "      <td>6.0</td>\n",
       "      <td>Webovci</td>\n",
       "      <td>201503</td>\n",
       "      <td>201609</td>\n",
       "      <td>0</td>\n",
       "      <td>0</td>\n",
       "      <td>Married</td>\n",
       "      <td>2. Elementary School</td>\n",
       "      <td>Ownership</td>\n",
       "      <td>Unemployed</td>\n",
       "      <td>2.1</td>\n",
       "      <td>0.2</td>\n",
       "      <td>nije u prvih 6</td>\n",
       "      <td>beograd-novi beograd</td>\n",
       "      <td>163.517</td>\n",
       "      <td>18.304</td>\n",
       "      <td>6.614</td>\n",
       "      <td>122,769</td>\n",
       "      <td>100,725</td>\n",
       "    </tr>\n",
       "  </tbody>\n",
       "</table>\n",
       "</div>"
      ],
      "text/plain": [
       "                   FIRST_OPEN_PRODUCT                  CITY  EMAIL_FLG  \\\n",
       "CUSTOMER_RK month                                                        \n",
       "427759      201506                LEN  beograd-novi beograd          0   \n",
       "            201505                LEN  beograd-novi beograd          0   \n",
       "            201507                LEN  beograd-novi beograd          0   \n",
       "            201503                LEN  beograd-novi beograd          0   \n",
       "            201508                LEN  beograd-novi beograd          0   \n",
       "\n",
       "                    BRANCH_CD GEO_REGION_CD  AGE_AT_ANALYSIS_MTH_CNT  \\\n",
       "CUSTOMER_RK month                                                      \n",
       "427759      201506        161     BEOGRAD 1                     62.0   \n",
       "            201505        161     BEOGRAD 1                     62.0   \n",
       "            201507        161     BEOGRAD 1                     62.0   \n",
       "            201503        161     BEOGRAD 1                     62.0   \n",
       "            201508        161     BEOGRAD 1                     63.0   \n",
       "\n",
       "                   GENDER_CD   DC_MIX   CC_MIX  ROL_flg_m1  MOB_ACTIVE  \\\n",
       "CUSTOMER_RK month                                                        \n",
       "427759      201506         F  Unknown  Unknown           0         4.0   \n",
       "            201505         F  Unknown  Unknown           0         3.0   \n",
       "            201507         F  Unknown  Unknown           0         5.0   \n",
       "            201503         F  Unknown  Unknown           0         1.0   \n",
       "            201508         F  Unknown  Unknown           0         6.0   \n",
       "\n",
       "                     BizSeg  month_od  month_do  mBanking_logs_m1  \\\n",
       "CUSTOMER_RK month                                                   \n",
       "427759      201506  Webovci    201503    201609                 0   \n",
       "            201505  Webovci    201503    201609                 0   \n",
       "            201507  Webovci    201503    201609                 0   \n",
       "            201503  Webovci    201503    201609                 0   \n",
       "            201508  Webovci    201503    201609                 0   \n",
       "\n",
       "                    eBanking_logs_m1 MARITAL_STATUS       Education_level  \\\n",
       "CUSTOMER_RK month                                                           \n",
       "427759      201506                 0        Married  2. Elementary School   \n",
       "            201505                 0        Married  2. Elementary School   \n",
       "            201507                 0        Married  2. Elementary School   \n",
       "            201503                 0        Married  2. Elementary School   \n",
       "            201508                 0        Married  2. Elementary School   \n",
       "\n",
       "                   RESIDENCE_STATUS EMPLOYMENT_TYPE  cpi_consumer  \\\n",
       "CUSTOMER_RK month                                                   \n",
       "427759      201506        Ownership      Unemployed           1.9   \n",
       "            201505        Ownership      Unemployed           1.5   \n",
       "            201507        Ownership      Unemployed           1.0   \n",
       "            201503          Renting      Unemployed           1.9   \n",
       "            201508        Ownership      Unemployed           2.1   \n",
       "\n",
       "                    cpi_excluding       cash_loan                  grad  \\\n",
       "CUSTOMER_RK month                                                         \n",
       "427759      201506            0.6  nije u prvih 6  beograd-novi beograd   \n",
       "            201505            0.1  nije u prvih 6  beograd-novi beograd   \n",
       "            201507            0.5  nije u prvih 6  beograd-novi beograd   \n",
       "            201503            0.0  nije u prvih 6  beograd-novi beograd   \n",
       "            201508            0.2  nije u prvih 6  beograd-novi beograd   \n",
       "\n",
       "                          F       P      R broj_prijava broj_obveznika  \n",
       "CUSTOMER_RK month                                                       \n",
       "427759      201506  163.517  18.304  6.614      122,769        100,725  \n",
       "            201505  163.517  18.304  6.614      122,769        100,725  \n",
       "            201507  163.517  18.304  6.614      122,769        100,725  \n",
       "            201503  163.517  18.304  6.614      122,769        100,725  \n",
       "            201508  163.517  18.304  6.614      122,769        100,725  "
      ]
     },
     "execution_count": 7,
     "metadata": {},
     "output_type": "execute_result"
    }
   ],
   "source": [
    "ds.set_index(['CUSTOMER_RK', 'month'], inplace=True)\n",
    "ds.head()"
   ]
  },
  {
   "cell_type": "markdown",
   "metadata": {},
   "source": [
    "## Feature transformation"
   ]
  },
  {
   "cell_type": "code",
   "execution_count": 11,
   "metadata": {},
   "outputs": [],
   "source": [
    "le = LabelEncoder()\n",
    "\n",
    "# ds.PD_MIX_ACTIVE_m1 = le.fit_transform(ds.PD_MIX_ACTIVE_m1)\n",
    "ds.FIRST_OPEN_PRODUCT = le.fit_transform(ds.FIRST_OPEN_PRODUCT)\n",
    "# ds.FIRST_CLOSED_PRODUCT_6MTH = le.fit_transform(ds.FIRST_CLOSED_PRODUCT_6MTH)\n",
    "# ds.LAST_OPEN_PRODUCT = le.fit_transform(ds.LAST_OPEN_PRODUCT)\n",
    "# ds.LAST_CLOSED_PRODUCT = le.fit_transform(ds.LAST_CLOSED_PRODUCT)\n",
    "# ds.PD_MIX_EVER = le.fit_transform(ds.PD_MIX_EVER)\n",
    "ds.CITY = le.fit_transform(ds.CITY)\n",
    "# ds.IS_SEGMENT_CD = le.fit_transform(ds.IS_SEGMENT_CD)\n",
    "# ds.REGION_CD = le.fit_transform(ds.REGION_CD)\n",
    "ds.GEO_REGION_CD = le.fit_transform(ds.GEO_REGION_CD)\n",
    "ds.GENDER_CD = le.fit_transform(ds.GENDER_CD)\n",
    "ds.DC_MIX = le.fit_transform(ds.DC_MIX)\n",
    "ds.CC_MIX = le.fit_transform(ds.CC_MIX)\n",
    "ds.BizSeg = le.fit_transform(ds.BizSeg)\n",
    "ds.MARITAL_STATUS = le.fit_transform(ds.MARITAL_STATUS)\n",
    "ds.Education_level = le.fit_transform(ds.Education_level)\n",
    "ds.RESIDENCE_STATUS = le.fit_transform(ds.RESIDENCE_STATUS)\n",
    "ds.EMPLOYMENT_TYPE = le.fit_transform(ds.EMPLOYMENT_TYPE)\n",
    "ds.cash_loan = le.fit_transform(ds.cash_loan)\n",
    "ds.grad = le.fit_transform(ds.grad)\n",
    "ds.broj_prijava = le.fit_transform(ds.broj_prijava)\n",
    "ds.broj_obveznika = le.fit_transform(ds.broj_obveznika)"
   ]
  },
  {
   "cell_type": "code",
   "execution_count": 12,
   "metadata": {},
   "outputs": [],
   "source": [
    "y = ds['cash_loan']\n",
    "X = ds[ds.loc[:, ds.columns != 'cash_loan'].columns]"
   ]
  },
  {
   "cell_type": "code",
   "execution_count": 13,
   "metadata": {},
   "outputs": [],
   "source": [
    "scaler = MinMaxScaler()\n",
    "scaler.fit(X)\n",
    "X = scaler.transform(X)"
   ]
  },
  {
   "cell_type": "code",
   "execution_count": 14,
   "metadata": {},
   "outputs": [],
   "source": [
    "X_train, X_test, y_train, y_test = train_test_split(X, y, test_size=0.2, random_state=2)"
   ]
  },
  {
   "cell_type": "markdown",
   "metadata": {},
   "source": [
    "## Random Forest Classifier\n",
    "\n",
    "Used Grid Search to select best parameters"
   ]
  },
  {
   "cell_type": "code",
   "execution_count": 15,
   "metadata": {},
   "outputs": [
    {
     "name": "stdout",
     "output_type": "stream",
     "text": [
      "Fitting 3 folds for each of 1 candidates, totalling 3 fits\n",
      "[CV] n_estimators=150, max_depth=25 ..................................\n",
      "[CV] n_estimators=150, max_depth=25 ..................................\n",
      "[CV] n_estimators=150, max_depth=25 ..................................\n",
      "[CV]  n_estimators=150, max_depth=25, score=0.9941715379619185, total=  23.0s\n",
      "[CV]  n_estimators=150, max_depth=25, score=0.994120462159021, total=  23.5s\n",
      "[CV]  n_estimators=150, max_depth=25, score=0.9942230122376428, total=  23.8s\n"
     ]
    },
    {
     "name": "stderr",
     "output_type": "stream",
     "text": [
      "[Parallel(n_jobs=-1)]: Done   3 out of   3 | elapsed:   26.1s remaining:    0.0s\n",
      "[Parallel(n_jobs=-1)]: Done   3 out of   3 | elapsed:   26.1s finished\n"
     ]
    },
    {
     "name": "stdout",
     "output_type": "stream",
     "text": [
      "Best score: 0.9942 %\n",
      "Best params: {'n_estimators': 150, 'max_depth': 25}\n"
     ]
    }
   ],
   "source": [
    "estimator = RandomForestClassifier(\n",
    "    n_estimators=50,\n",
    "    max_depth=50,\n",
    "    random_state=0\n",
    ")\n",
    "\n",
    "param_grid = {\n",
    "    'max_depth': [25, 50],\n",
    "    'n_estimators':  [250, 500]\n",
    "}\n",
    "\n",
    "clf = GridSearchCV(\n",
    "    estimator,\n",
    "    param_grid,\n",
    "    scoring='f1_micro',\n",
    "    verbose=4,\n",
    "    n_jobs=-1,\n",
    "    cv=3\n",
    ")\n",
    "\n",
    "clf.fit(X_train, y_train)\n",
    "\n",
    "best_estimator = clf.best_estimator_\n",
    "best_score = clf.best_score_\n",
    "best_params = clf.best_params_\n",
    "\n",
    "print(\"Best score: %.4f %%\" % best_score)\n",
    "print(\"Best params:\", best_params)"
   ]
  },
  {
   "cell_type": "markdown",
   "metadata": {},
   "source": [
    "### Cross validation score"
   ]
  },
  {
   "cell_type": "code",
   "execution_count": 16,
   "metadata": {},
   "outputs": [
    {
     "name": "stdout",
     "output_type": "stream",
     "text": [
      "CV accuracy: 0.995 +/- 0.000\n",
      "CPU times: user 1.16 s, sys: 644 ms, total: 1.8 s\n",
      "Wall time: 53.8 s\n"
     ]
    }
   ],
   "source": [
    "%%time\n",
    "\n",
    "scores = cross_val_score(best_estimator, X_train, y_train, cv=10, n_jobs=-1)\n",
    "print('CV accuracy: %.3f +/- %.3f' % (np.mean(scores), np.std(scores)))"
   ]
  },
  {
   "cell_type": "markdown",
   "metadata": {},
   "source": [
    "### Learning curve"
   ]
  },
  {
   "cell_type": "code",
   "execution_count": 17,
   "metadata": {},
   "outputs": [
    {
     "name": "stdout",
     "output_type": "stream",
     "text": [
      "CPU times: user 4.84 s, sys: 756 ms, total: 5.59 s\n",
      "Wall time: 2min 8s\n"
     ]
    },
    {
     "data": {
      "text/plain": [
       "<module 'matplotlib.pyplot' from '/usr/local/lib/python3.5/dist-packages/matplotlib/pyplot.py'>"
      ]
     },
     "execution_count": 17,
     "metadata": {},
     "output_type": "execute_result"
    },
    {
     "data": {
      "image/png": "[encoded data removed]",
      "text/plain": [
       "<Figure size 432x288 with 1 Axes>"
      ]
     },
     "metadata": {
      "needs_background": "light"
     },
     "output_type": "display_data"
    }
   ],
   "source": [
    "%%time\n",
    "\n",
    "title = \"Learning Curves\"\n",
    "cv = 10\n",
    "plot_learning_curve(best_estimator, title, X_train, y_train, cv=cv, n_jobs=-1);"
   ]
  },
  {
   "cell_type": "markdown",
   "metadata": {},
   "source": [
    "### Test predictions"
   ]
  },
  {
   "cell_type": "code",
   "execution_count": 18,
   "metadata": {},
   "outputs": [],
   "source": [
    "y_pred = best_estimator.predict(X_test)"
   ]
  },
  {
   "cell_type": "code",
   "execution_count": 19,
   "metadata": {},
   "outputs": [
    {
     "name": "stdout",
     "output_type": "stream",
     "text": [
      "Score: 0.9955 %\n",
      "Accuracy: 99.55 %\n"
     ]
    }
   ],
   "source": [
    "score = best_estimator.score(X_test, y_test)\n",
    "print(\"Score: %.4f %%\" % score)\n",
    "accuracy = accuracy_score(y_test, y_pred)\n",
    "print(\"Accuracy: %.2f %%\" % (accuracy * 100.0))"
   ]
  },
  {
   "cell_type": "markdown",
   "metadata": {},
   "source": [
    "### Plot confusion matrix"
   ]
  },
  {
   "cell_type": "code",
   "execution_count": 20,
   "metadata": {},
   "outputs": [
    {
     "data": {
      "image/png": "[encoded data removed]",
      "text/plain": [
       "<Figure size 360x360 with 2 Axes>"
      ]
     },
     "metadata": {
      "needs_background": "light"
     },
     "output_type": "display_data"
    }
   ],
   "source": [
    "class_names = np.array(['Nije u prvih 6', 'U prva 3', 'U prvih 6'])\n",
    "\n",
    "# Plot non-normalized confusion matrix\n",
    "plot_confusion_matrix(y_test, y_pred, classes=class_names,\n",
    "                      title='Cache Loan')\n",
    "\n",
    "plt.show()"
   ]
  },
  {
   "cell_type": "markdown",
   "metadata": {},
   "source": [
    "### Feature importance"
   ]
  },
  {
   "cell_type": "code",
   "execution_count": 21,
   "metadata": {},
   "outputs": [
    {
     "data": {
      "text/plain": [
       "<matplotlib.axes._subplots.AxesSubplot at 0x7f8499315908>"
      ]
     },
     "execution_count": 21,
     "metadata": {},
     "output_type": "execute_result"
    },
    {
     "data": {
      "image/png": "[encoded data removed]",
      "text/plain": [
       "<Figure size 720x720 with 1 Axes>"
      ]
     },
     "metadata": {
      "needs_background": "light"
     },
     "output_type": "display_data"
    }
   ],
   "source": [
    "feature_list = list(ds.loc[:, ds.columns != 'cash_loan'].columns)\n",
    "importances = list(best_estimator.feature_importances_)\n",
    "feature_importances = [(feature, round(importance, 2)) for feature, importance in zip(feature_list, importances)]\n",
    "feature_importances = sorted(feature_importances, key = lambda x: x[1], reverse = True)\n",
    "pd.DataFrame(feature_importances) \\\n",
    ".set_index(0) \\\n",
    ".rename(columns={1:'Importance'}) \\\n",
    ".sort_values('Importance', ascending=True) \\\n",
    ".plot.barh(figsize=(10,10))"
   ]
  },
  {
   "cell_type": "code",
   "execution_count": null,
   "metadata": {},
   "outputs": [],
   "source": []
  }
 ],
 "metadata": {
  "kernelspec": {
   "display_name": "Python 3",
   "language": "python",
   "name": "python3"
  },
  "language_info": {
   "codemirror_mode": {
    "name": "ipython",
    "version": 3
   },
   "file_extension": ".py",
   "mimetype": "text/x-python",
   "name": "python",
   "nbconvert_exporter": "python",
   "pygments_lexer": "ipython3",
   "version": "3.5.3"
  }
 },
 "nbformat": 4,
 "nbformat_minor": 4
}
