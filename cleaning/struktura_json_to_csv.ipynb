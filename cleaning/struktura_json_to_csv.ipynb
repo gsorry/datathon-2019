{
 "cells": [
  {
   "cell_type": "code",
   "execution_count": 1,
   "metadata": {},
   "outputs": [],
   "source": [
    "import pandas as pd"
   ]
  },
  {
   "cell_type": "code",
   "execution_count": 2,
   "metadata": {},
   "outputs": [],
   "source": [
    "df = pd.read_json('struktura_obveznika.json') \\\n",
    ".set_index('Grad') \\\n",
    ".drop('Ukupno', axis=1)"
   ]
  },
  {
   "cell_type": "code",
   "execution_count": 3,
   "metadata": {},
   "outputs": [
    {
     "data": {
      "text/html": [
       "<div>\n",
       "<style scoped>\n",
       "    .dataframe tbody tr th:only-of-type {\n",
       "        vertical-align: middle;\n",
       "    }\n",
       "\n",
       "    .dataframe tbody tr th {\n",
       "        vertical-align: top;\n",
       "    }\n",
       "\n",
       "    .dataframe thead th {\n",
       "        text-align: right;\n",
       "    }\n",
       "</style>\n",
       "<table border=\"1\" class=\"dataframe\">\n",
       "  <thead>\n",
       "    <tr style=\"text-align: right;\">\n",
       "      <th></th>\n",
       "      <th>F</th>\n",
       "      <th>P</th>\n",
       "      <th>R</th>\n",
       "    </tr>\n",
       "    <tr>\n",
       "      <th>Grad</th>\n",
       "      <th></th>\n",
       "      <th></th>\n",
       "      <th></th>\n",
       "    </tr>\n",
       "  </thead>\n",
       "  <tbody>\n",
       "    <tr>\n",
       "      <td>Ada</td>\n",
       "      <td>20.788</td>\n",
       "      <td>618.0</td>\n",
       "      <td>773.000</td>\n",
       "    </tr>\n",
       "    <tr>\n",
       "      <td>Aleksandrovac</td>\n",
       "      <td>17.699</td>\n",
       "      <td>566.0</td>\n",
       "      <td>4.441</td>\n",
       "    </tr>\n",
       "    <tr>\n",
       "      <td>Aleksinac</td>\n",
       "      <td>49.314</td>\n",
       "      <td>855.0</td>\n",
       "      <td>1.999</td>\n",
       "    </tr>\n",
       "    <tr>\n",
       "      <td>Alibunar</td>\n",
       "      <td>23.223</td>\n",
       "      <td>470.0</td>\n",
       "      <td>877.000</td>\n",
       "    </tr>\n",
       "    <tr>\n",
       "      <td>Apatin</td>\n",
       "      <td>31.852</td>\n",
       "      <td>625.0</td>\n",
       "      <td>537.000</td>\n",
       "    </tr>\n",
       "  </tbody>\n",
       "</table>\n",
       "</div>"
      ],
      "text/plain": [
       "                    F      P        R\n",
       "Grad                                 \n",
       "Ada            20.788  618.0  773.000\n",
       "Aleksandrovac  17.699  566.0    4.441\n",
       "Aleksinac      49.314  855.0    1.999\n",
       "Alibunar       23.223  470.0  877.000\n",
       "Apatin         31.852  625.0  537.000"
      ]
     },
     "execution_count": 3,
     "metadata": {},
     "output_type": "execute_result"
    }
   ],
   "source": [
    "df.head()"
   ]
  },
  {
   "cell_type": "code",
   "execution_count": 4,
   "metadata": {},
   "outputs": [],
   "source": [
    "df.to_csv('struktura_obveznika.csv')"
   ]
  },
  {
   "cell_type": "code",
   "execution_count": null,
   "metadata": {},
   "outputs": [],
   "source": []
  }
 ],
 "metadata": {
  "kernelspec": {
   "display_name": "Python 3",
   "language": "python",
   "name": "python3"
  },
  "language_info": {
   "codemirror_mode": {
    "name": "ipython",
    "version": 3
   },
   "file_extension": ".py",
   "mimetype": "text/x-python",
   "name": "python",
   "nbconvert_exporter": "python",
   "pygments_lexer": "ipython3",
   "version": "3.5.3"
  }
 },
 "nbformat": 4,
 "nbformat_minor": 4
}
