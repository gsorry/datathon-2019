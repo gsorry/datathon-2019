{
 "cells": [
  {
   "cell_type": "code",
   "execution_count": 1,
   "metadata": {},
   "outputs": [],
   "source": [
    "import pandas as pd"
   ]
  },
  {
   "cell_type": "code",
   "execution_count": 2,
   "metadata": {},
   "outputs": [],
   "source": [
    "struktura = pd.read_csv('struktura_obveznika.csv', index_col=0)"
   ]
  },
  {
   "cell_type": "code",
   "execution_count": 3,
   "metadata": {},
   "outputs": [
    {
     "data": {
      "text/html": [
       "<div>\n",
       "<style scoped>\n",
       "    .dataframe tbody tr th:only-of-type {\n",
       "        vertical-align: middle;\n",
       "    }\n",
       "\n",
       "    .dataframe tbody tr th {\n",
       "        vertical-align: top;\n",
       "    }\n",
       "\n",
       "    .dataframe thead th {\n",
       "        text-align: right;\n",
       "    }\n",
       "</style>\n",
       "<table border=\"1\" class=\"dataframe\">\n",
       "  <thead>\n",
       "    <tr style=\"text-align: right;\">\n",
       "      <th></th>\n",
       "      <th>F</th>\n",
       "      <th>P</th>\n",
       "      <th>R</th>\n",
       "    </tr>\n",
       "    <tr>\n",
       "      <th>Grad</th>\n",
       "      <th></th>\n",
       "      <th></th>\n",
       "      <th></th>\n",
       "    </tr>\n",
       "  </thead>\n",
       "  <tbody>\n",
       "    <tr>\n",
       "      <td>Ada</td>\n",
       "      <td>20.788</td>\n",
       "      <td>618.0</td>\n",
       "      <td>773.000</td>\n",
       "    </tr>\n",
       "    <tr>\n",
       "      <td>Aleksandrovac</td>\n",
       "      <td>17.699</td>\n",
       "      <td>566.0</td>\n",
       "      <td>4.441</td>\n",
       "    </tr>\n",
       "    <tr>\n",
       "      <td>Aleksinac</td>\n",
       "      <td>49.314</td>\n",
       "      <td>855.0</td>\n",
       "      <td>1.999</td>\n",
       "    </tr>\n",
       "    <tr>\n",
       "      <td>Alibunar</td>\n",
       "      <td>23.223</td>\n",
       "      <td>470.0</td>\n",
       "      <td>877.000</td>\n",
       "    </tr>\n",
       "    <tr>\n",
       "      <td>Apatin</td>\n",
       "      <td>31.852</td>\n",
       "      <td>625.0</td>\n",
       "      <td>537.000</td>\n",
       "    </tr>\n",
       "  </tbody>\n",
       "</table>\n",
       "</div>"
      ],
      "text/plain": [
       "                    F      P        R\n",
       "Grad                                 \n",
       "Ada            20.788  618.0  773.000\n",
       "Aleksandrovac  17.699  566.0    4.441\n",
       "Aleksinac      49.314  855.0    1.999\n",
       "Alibunar       23.223  470.0  877.000\n",
       "Apatin         31.852  625.0  537.000"
      ]
     },
     "execution_count": 3,
     "metadata": {},
     "output_type": "execute_result"
    }
   ],
   "source": [
    "struktura.head()"
   ]
  },
  {
   "cell_type": "code",
   "execution_count": 4,
   "metadata": {},
   "outputs": [],
   "source": [
    "imovina = pd.read_csv('imovina_fizickih_lica.csv', index_col=0)"
   ]
  },
  {
   "cell_type": "code",
   "execution_count": 5,
   "metadata": {},
   "outputs": [
    {
     "data": {
      "text/html": [
       "<div>\n",
       "<style scoped>\n",
       "    .dataframe tbody tr th:only-of-type {\n",
       "        vertical-align: middle;\n",
       "    }\n",
       "\n",
       "    .dataframe tbody tr th {\n",
       "        vertical-align: top;\n",
       "    }\n",
       "\n",
       "    .dataframe thead th {\n",
       "        text-align: right;\n",
       "    }\n",
       "</style>\n",
       "<table border=\"1\" class=\"dataframe\">\n",
       "  <thead>\n",
       "    <tr style=\"text-align: right;\">\n",
       "      <th></th>\n",
       "      <th>broj_prijava</th>\n",
       "      <th>broj_obveznika</th>\n",
       "    </tr>\n",
       "    <tr>\n",
       "      <th>opstina</th>\n",
       "      <th></th>\n",
       "      <th></th>\n",
       "    </tr>\n",
       "  </thead>\n",
       "  <tbody>\n",
       "    <tr>\n",
       "      <td>Ada</td>\n",
       "      <td>17,862</td>\n",
       "      <td>10,456</td>\n",
       "    </tr>\n",
       "    <tr>\n",
       "      <td>Aleksandrovac</td>\n",
       "      <td>10,499</td>\n",
       "      <td>8,835</td>\n",
       "    </tr>\n",
       "    <tr>\n",
       "      <td>Aleksinac</td>\n",
       "      <td>68,755</td>\n",
       "      <td>32,256</td>\n",
       "    </tr>\n",
       "    <tr>\n",
       "      <td>Alibunar</td>\n",
       "      <td>23,420</td>\n",
       "      <td>12,681</td>\n",
       "    </tr>\n",
       "    <tr>\n",
       "      <td>Apatin</td>\n",
       "      <td>28,387</td>\n",
       "      <td>15,519</td>\n",
       "    </tr>\n",
       "  </tbody>\n",
       "</table>\n",
       "</div>"
      ],
      "text/plain": [
       "              broj_prijava broj_obveznika\n",
       "opstina                                  \n",
       "Ada                 17,862         10,456\n",
       "Aleksandrovac       10,499          8,835\n",
       "Aleksinac           68,755         32,256\n",
       "Alibunar            23,420         12,681\n",
       "Apatin              28,387         15,519"
      ]
     },
     "execution_count": 5,
     "metadata": {},
     "output_type": "execute_result"
    }
   ],
   "source": [
    "imovina.head()"
   ]
  },
  {
   "cell_type": "code",
   "execution_count": 9,
   "metadata": {},
   "outputs": [],
   "source": [
    "struktura_imovina = pd.concat([struktura, imovina], axis=1, join='inner') \\\n",
    ".reset_index() \\\n",
    ".rename(columns={'index':'grad'}) \\\n",
    ".set_index('grad')"
   ]
  },
  {
   "cell_type": "code",
   "execution_count": 10,
   "metadata": {},
   "outputs": [
    {
     "data": {
      "text/html": [
       "<div>\n",
       "<style scoped>\n",
       "    .dataframe tbody tr th:only-of-type {\n",
       "        vertical-align: middle;\n",
       "    }\n",
       "\n",
       "    .dataframe tbody tr th {\n",
       "        vertical-align: top;\n",
       "    }\n",
       "\n",
       "    .dataframe thead th {\n",
       "        text-align: right;\n",
       "    }\n",
       "</style>\n",
       "<table border=\"1\" class=\"dataframe\">\n",
       "  <thead>\n",
       "    <tr style=\"text-align: right;\">\n",
       "      <th></th>\n",
       "      <th>F</th>\n",
       "      <th>P</th>\n",
       "      <th>R</th>\n",
       "      <th>broj_prijava</th>\n",
       "      <th>broj_obveznika</th>\n",
       "    </tr>\n",
       "    <tr>\n",
       "      <th>grad</th>\n",
       "      <th></th>\n",
       "      <th></th>\n",
       "      <th></th>\n",
       "      <th></th>\n",
       "      <th></th>\n",
       "    </tr>\n",
       "  </thead>\n",
       "  <tbody>\n",
       "    <tr>\n",
       "      <td>Ada</td>\n",
       "      <td>20.788</td>\n",
       "      <td>618.0</td>\n",
       "      <td>773.000</td>\n",
       "      <td>17,862</td>\n",
       "      <td>10,456</td>\n",
       "    </tr>\n",
       "    <tr>\n",
       "      <td>Aleksandrovac</td>\n",
       "      <td>17.699</td>\n",
       "      <td>566.0</td>\n",
       "      <td>4.441</td>\n",
       "      <td>10,499</td>\n",
       "      <td>8,835</td>\n",
       "    </tr>\n",
       "    <tr>\n",
       "      <td>Aleksinac</td>\n",
       "      <td>49.314</td>\n",
       "      <td>855.0</td>\n",
       "      <td>1.999</td>\n",
       "      <td>68,755</td>\n",
       "      <td>32,256</td>\n",
       "    </tr>\n",
       "    <tr>\n",
       "      <td>Alibunar</td>\n",
       "      <td>23.223</td>\n",
       "      <td>470.0</td>\n",
       "      <td>877.000</td>\n",
       "      <td>23,420</td>\n",
       "      <td>12,681</td>\n",
       "    </tr>\n",
       "    <tr>\n",
       "      <td>Apatin</td>\n",
       "      <td>31.852</td>\n",
       "      <td>625.0</td>\n",
       "      <td>537.000</td>\n",
       "      <td>28,387</td>\n",
       "      <td>15,519</td>\n",
       "    </tr>\n",
       "  </tbody>\n",
       "</table>\n",
       "</div>"
      ],
      "text/plain": [
       "                    F      P        R broj_prijava broj_obveznika\n",
       "grad                                                             \n",
       "Ada            20.788  618.0  773.000       17,862         10,456\n",
       "Aleksandrovac  17.699  566.0    4.441       10,499          8,835\n",
       "Aleksinac      49.314  855.0    1.999       68,755         32,256\n",
       "Alibunar       23.223  470.0  877.000       23,420         12,681\n",
       "Apatin         31.852  625.0  537.000       28,387         15,519"
      ]
     },
     "execution_count": 10,
     "metadata": {},
     "output_type": "execute_result"
    }
   ],
   "source": [
    "struktura_imovina.head()"
   ]
  },
  {
   "cell_type": "code",
   "execution_count": 11,
   "metadata": {},
   "outputs": [],
   "source": [
    "struktura_imovina.to_csv('full_struktura_imovina.csv')"
   ]
  },
  {
   "cell_type": "code",
   "execution_count": null,
   "metadata": {},
   "outputs": [],
   "source": []
  }
 ],
 "metadata": {
  "kernelspec": {
   "display_name": "Python 3",
   "language": "python",
   "name": "python3"
  },
  "language_info": {
   "codemirror_mode": {
    "name": "ipython",
    "version": 3
   },
   "file_extension": ".py",
   "mimetype": "text/x-python",
   "name": "python",
   "nbconvert_exporter": "python",
   "pygments_lexer": "ipython3",
   "version": "3.5.3"
  }
 },
 "nbformat": 4,
 "nbformat_minor": 4
}
